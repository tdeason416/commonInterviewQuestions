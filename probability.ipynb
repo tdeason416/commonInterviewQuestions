{
 "cells": [
  {
   "cell_type": "markdown",
   "metadata": {
    "collapsed": true
   },
   "source": [
    "# Probability"
   ]
  },
  {
   "cell_type": "markdown",
   "metadata": {},
   "source": [
    "## Pro Tips\n",
    "- Important concepts to review from an introductory probability class include the [Law of Total Probability](#law_of_total_probability), [Bayes' Rule](#Bayes), and Expectation. You can learn many of these topics (and important topics regarding hypothesis testing and inference) with intro-level courses in probability and inference."
   ]
  },
  {
   "cell_type": "code",
   "execution_count": 1,
   "metadata": {
    "collapsed": false
   },
   "outputs": [],
   "source": [
    "from __future__ import division\n",
    "import numpy as np\n",
    "from collections import Counter\n",
    "import random\n",
    "import scipy.stats"
   ]
  },
  {
   "cell_type": "markdown",
   "metadata": {},
   "source": [
    "### 1. Bobo the amoeba has a 25%, 25%, and 50%  chance of producing 0, 1, or 2 offspring, respecitvely. Each of Bobo's descendants also have the same probabilities. What is the probability that Bobo’s lineage dies out?"
   ]
  },
  {
   "cell_type": "markdown",
   "metadata": {},
   "source": [
    "We are given:<br>\n",
    "$ P[X_n = 0] = .25 $<br>\n",
    "$ P[X_n = 1] = .25 $<br>\n",
    "$ P[X_n = 2] = .5 $<br>\n",
    "Note that we specify $ X_n $ for all probabilities, not just $ X $ because the probabilities are the same for every generation.\n",
    "\n",
    "To find the probability $ q $ that Bobo's lineage dies out, we can look at each possible scenario:<br>\n",
    "- If Bobo has no offspring, the lineage has died out.<br>\n",
    "$ P[X_1 = 0] = .25 $<br>\n",
    "- If Bobo has one offspring, that offspring has the same probability of dying out as Bobo.<br>\n",
    "$ P[X_1 = 1 \\cap X_2 = 0] = .25q $\n",
    "- If Bobo has two offspring, we want to find the probability that both offspring die out.<br>\n",
    "$ P[X_1 = 2 \\cap X_2 = 0] = .5q^2 $\n",
    "\n",
    "So, we have $ q = .25 + .25q + .5q^2 $. Solving for the quadratic, we find that $ q = .5 $"
   ]
  },
  {
   "cell_type": "code",
   "execution_count": 2,
   "metadata": {
    "collapsed": false
   },
   "outputs": [
    {
     "name": "stdout",
     "output_type": "stream",
     "text": [
      "survival rate: 51.15% (in 10000 experiments)\n"
     ]
    }
   ],
   "source": [
    "## Code to simulate the scenario:\n",
    "\n",
    "def generation(n=1): # n is number of living amoebas\n",
    "    if n > 100:\n",
    "        return True # consider survived\n",
    "    else:\n",
    "        next_gen = 0\n",
    "        # for each amoeba in current generation count descendants\n",
    "        for amoeba in xrange(n):\n",
    "            # random number of descendants: 0-3\n",
    "            descendants = np.random.randint(0,4)\n",
    "            # 3 descendants are only two :)\n",
    "            if descendants == 3:\n",
    "                descendants = 2\n",
    "            next_gen += descendants\n",
    "        if next_gen == 0:\n",
    "            return False # died out\n",
    "        else:\n",
    "            return generation(n=next_gen)\n",
    "\n",
    "experiments = 10000\n",
    "survived = 0\n",
    "for experiment in xrange(experiments):\n",
    "    if generation():\n",
    "        survived += 1\n",
    "print 'survival rate: {}% (in {} experiments)'.format(100*survived/experiments, experiments)"
   ]
  },
  {
   "cell_type": "markdown",
   "metadata": {},
   "source": [
    "### 2. In any 15-minute interval, there is a 20% probability that you will see at least one shooting star. What is the probability that you see at least one shooting star in the period of an hour?"
   ]
  },
  {
   "cell_type": "markdown",
   "metadata": {},
   "source": [
    "We are given:<br>\n",
    "$ P[X \\geq 1] = .2 $ in a 15-minute interval.<br>\n",
    "By the [Law of Total Probability](#law_of_total_probability), we know that $ P[X = 0] = .8 $.\n",
    "\n",
    "We want to find $ 1 - P[X = 0]^4 $ since there are 4 15-minute intervals in an hour.<br>\n",
    "$ 1 - P[X = 0]^4 = 1 - 0.8^4 = .5904 $"
   ]
  },
  {
   "cell_type": "code",
   "execution_count": 3,
   "metadata": {
    "collapsed": false
   },
   "outputs": [
    {
     "name": "stdout",
     "output_type": "stream",
     "text": [
      "saw at least one star: 58.92% (in 10000 experiments)\n"
     ]
    }
   ],
   "source": [
    "## Code to simulate the scenario:\n",
    "\n",
    "def hour():\n",
    "    for quarter in xrange(4):\n",
    "        if np.random.randint(0,5) == 0:\n",
    "            return True\n",
    "    return False\n",
    "\n",
    "experiments = 10000\n",
    "stars = 0\n",
    "for experiment in xrange(experiments):\n",
    "    if hour():\n",
    "        stars += 1\n",
    "print 'saw at least one star: {}% (in {} experiments)'.format(100*stars/experiments, experiments)"
   ]
  },
  {
   "cell_type": "markdown",
   "metadata": {},
   "source": [
    "### 3. How can you generate a random number between 1 - 7 with only a die?"
   ]
  },
  {
   "cell_type": "markdown",
   "metadata": {},
   "source": [
    "Roll the die twice and add the outcomes of the rolls to get 36 possible outcomes with uniform probability. Assign 1 outcome (e.g., two sixes) as a \"dummy\" outcome and divide the remaining 35 outcomes into 7 \"buckets\", each assigned to a number from 1 to 7. If you roll the dummy outcome, roll again."
   ]
  },
  {
   "cell_type": "code",
   "execution_count": 4,
   "metadata": {
    "collapsed": false
   },
   "outputs": [
    {
     "name": "stdout",
     "output_type": "stream",
     "text": [
      "Counter({2: 1676, 4: 1421, 7: 1407, 5: 1400, 6: 1387, 1: 1384, 3: 1325})\n"
     ]
    }
   ],
   "source": [
    "## See if it works (it is not ideal but I am going to blame numpy non-randomness):\n",
    "\n",
    "x = np.random.randint(1, 7, size=10000)\n",
    "y = np.random.randint(1, 7, size=10000)\n",
    "print Counter((6*(x-1) + y) % 7 + 1)"
   ]
  },
  {
   "cell_type": "markdown",
   "metadata": {},
   "source": [
    "### 4. How can you get a fair coin toss if someone hands you a coin that is weighted to come up heads more often than tails?"
   ]
  },
  {
   "cell_type": "markdown",
   "metadata": {},
   "source": [
    "Flip the coin twice and assign a heads-then-tails event as a \"Heads\" outcome and a tails-then-heads event as a \"Tails\" outcome, or vice versa. The probability of getting a head first, then a tail is the same probability as flipping a tail first, then a head. If you flip two heads in a row or two tails in a row, try again.\n",
    "\n",
    "Proof:<br>\n",
    "Let $ p $ = the probability of flipping heads, then the probability of flipping tails is $ 1 - p $.<br>\n",
    "$ P[X_1 = H \\cap X_2 = T] = p(1 - p) = (1 - p)p = P[X_1 = T \\cap X_2 = H] $"
   ]
  },
  {
   "cell_type": "code",
   "execution_count": 5,
   "metadata": {
    "collapsed": false
   },
   "outputs": [
    {
     "name": "stdout",
     "output_type": "stream",
     "text": [
      "Counter({'T': 1643, 'H': 1544})\n"
     ]
    }
   ],
   "source": [
    "## Code to simulate the scenario:\n",
    "\n",
    "def flip(p):\n",
    "    return 'H' if random.random() < p else 'T'\n",
    "\n",
    "experiments = 10000\n",
    "results = []\n",
    "p = 0.8\n",
    "for experiment in xrange(experiments):\n",
    "    x = flip(p)\n",
    "    y = flip(p)\n",
    "    if x != y:\n",
    "        results.append(x)\n",
    "\n",
    "print Counter(results)"
   ]
  },
  {
   "cell_type": "markdown",
   "metadata": {},
   "source": [
    "### 5. You have an 50-50 mixture of two normal distributions with the same standard deviation. How far apart do the means need to be in order for this distribution to be bimodal?"
   ]
  },
  {
   "cell_type": "markdown",
   "metadata": {},
   "source": [
    "Definition: Bimodal distribution is a continuous probability distribution with two different modes. These appear as distinct peaks (local maxima) in the probability density function.\n",
    "\n",
    "The probability of $ x $ in the mixture is given by $ p(x) = 0.5N(x; \\mu_1, \\sigma) + 0.5N(x; \\mu_2, \\sigma) $ which is symmetric around $ \\frac{\\mu_1 + \\mu_2}{2} $. The mixture is bimodal if and only if $ \\mid \\mu_1 − \\mu_2 \\mid > 2\\sigma $."
   ]
  },
  {
   "cell_type": "markdown",
   "metadata": {},
   "source": [
    "### 6. Given draws from a normal distribution with known parameters, how can you simulate draws from a uniform distribution?"
   ]
  },
  {
   "cell_type": "markdown",
   "metadata": {},
   "source": [
    "There is actually a technique called Probability Integral Transform (aka Universality of the Uniform) which says \"If you plug in a random variable into its own CDF, you get a Uniform distribution.\" So just plug your draw into the CDF of the normal distribution.\n",
    "\n",
    "Not really a proof but this is the idea in code:"
   ]
  },
  {
   "cell_type": "code",
   "execution_count": 6,
   "metadata": {
    "collapsed": false
   },
   "outputs": [
    {
     "name": "stdout",
     "output_type": "stream",
     "text": [
      "Counter({2: 1073, 7: 1038, 9: 1028, 5: 1014, 8: 1011, 6: 983, 1: 979, 3: 968, 4: 965, 0: 941})\n"
     ]
    }
   ],
   "source": [
    "def draw():\n",
    "    draw = scipy.stats.norm.rvs()\n",
    "    return int(scipy.stats.norm.cdf(draw)*10) #multiply by 10 and round down to int\n",
    "\n",
    "results = []\n",
    "experiments = 10000\n",
    "for experiment in xrange(experiments):\n",
    "    results.append(draw())\n",
    "\n",
    "print Counter(results)"
   ]
  },
  {
   "cell_type": "markdown",
   "metadata": {},
   "source": [
    "### 7. A certain couple tells you that they have two children, at least one of which is a girl. What is the probability that they have two girls?"
   ]
  },
  {
   "cell_type": "markdown",
   "metadata": {},
   "source": [
    "Assuming the chances for boy vs girl are equal, the sample space is {BB, BG, GB, GG}.\n",
    "We know their case is not BB, which leaves us with BG, GB, GG. The chance of two girls is 1/3.\n",
    "\n",
    "Some experiment code:"
   ]
  },
  {
   "cell_type": "code",
   "execution_count": 7,
   "metadata": {
    "collapsed": false
   },
   "outputs": [
    {
     "name": "stdout",
     "output_type": "stream",
     "text": [
      "0.330343996788\n"
     ]
    }
   ],
   "source": [
    "x = np.random.randint(0, 2, size=10000) # 1st child (girl 0, boy 1)\n",
    "y = np.random.randint(0, 2, size=10000) # 2nd child (girl 0, boy 1)\n",
    "\n",
    "# two girls: x + y = 0\n",
    "# at least one girl: x + y <=1\n",
    "print sum(x + y == 0) / sum(x + y <= 1)"
   ]
  },
  {
   "cell_type": "markdown",
   "metadata": {},
   "source": [
    "### 8. You have a group of couples that decide to have children until they have their first girl, after which they stop having children. What is the expected gender ratio of the children that are born? What is the expected number of children each couple will have?"
   ]
  },
  {
   "cell_type": "markdown",
   "metadata": {},
   "source": [
    "Intuitively: All couples have their first child and those children are 50/50 boys and girls. Half of the couples (those with boys) has another child and those children are again 50/50 boys and girls. This continues but the ration remains and there is the same number of girls and boys. Expected number of children for each couple is 2."
   ]
  },
  {
   "cell_type": "code",
   "execution_count": 8,
   "metadata": {
    "collapsed": false
   },
   "outputs": [
    {
     "name": "stdout",
     "output_type": "stream",
     "text": [
      "10000 girls, 9950 boys, 1.995 children per couple\n"
     ]
    }
   ],
   "source": [
    "def generation(n=10, g=0, b=0): # n is number of couples\n",
    "    if n == 0:\n",
    "        return g, b\n",
    "    else:\n",
    "        children = np.random.randint(0, 2, size=n) # girl 0, boy 1\n",
    "        g += sum(children == 0)\n",
    "        b += sum(children == 1)\n",
    "        return generation(n=sum(children == 1), g=g, b=b)\n",
    "\n",
    "couples = 10000\n",
    "girls, boys = generation(n=couples)\n",
    "print '{} girls, {} boys, {} children per couple'.format(girls, boys, (girls+boys)/couples)"
   ]
  },
  {
   "cell_type": "markdown",
   "metadata": {},
   "source": [
    "### 9. How many ways can you split 12 people into 3 teams of 4?"
   ]
  },
  {
   "cell_type": "markdown",
   "metadata": {},
   "source": [
    "$\\begin{pmatrix} 12 \\\\ 4 \\end{pmatrix}$ for the first group = 495<br>\n",
    "$\\begin{pmatrix} 8 \\\\ 4 \\end{pmatrix}$ for the second group = 70<br>\n",
    "$\\begin{pmatrix} 4 \\\\ 4 \\end{pmatrix}$ for the third group = 1<br>\n",
    "multiply those numbers and divide by $ 3! $ because we do not care about the order of the groups\n",
    "\n",
    "result: $ \\frac{495 * 70 * 1}{3!} = 5775 $"
   ]
  },
  {
   "cell_type": "markdown",
   "metadata": {},
   "source": [
    "### 10. Your hash function assigns each object to a number between 1:10, each with equal probability. With 10 objects, what is the probability of a hash collision? What is the expected number of hash collisions? What is the expected number of hashes that are unused."
   ]
  },
  {
   "cell_type": "markdown",
   "metadata": {},
   "source": []
  },
  {
   "cell_type": "code",
   "execution_count": 27,
   "metadata": {
    "collapsed": false
   },
   "outputs": [
    {
     "name": "stdout",
     "output_type": "stream",
     "text": [
      "0.02 percent chance there will be no collisions\n",
      "0.65143 average shared hashbin count\n"
     ]
    }
   ],
   "source": [
    "def hash_collision(num_bins, num_objects):\n",
    "    set_lens = 0\n",
    "    no_collisions = 0\n",
    "    for trial in xrange(10000):\n",
    "        set_len = len(set(np.random.choice(np.arange(num_bins), num_objects)))\n",
    "        set_lens += set_len\n",
    "        if set_len == num_objects:\n",
    "            no_collisions += 1\n",
    "    return (float(set_lens) / (10000*num_bins)), float(no_collisions) / 10000\n",
    "\n",
    "overlap, no_collision_prob = percent_of_bins_used(10, 10)\n",
    "\n",
    "text = '''{0} percent chance there will be no collisions\n",
    "{1} average shared hashbin count'''.format(no_collision_prob*100, overlap)\n",
    "\n",
    "print text"
   ]
  },
  {
   "cell_type": "markdown",
   "metadata": {},
   "source": [
    "### 11. You call 2 UberX's and 3 Lyfts. If the time that each takes to reach you is IID, what is the probability that all the Lyfts arrive first? What is the probability that all the UberX's arrive first?"
   ]
  },
  {
   "cell_type": "markdown",
   "metadata": {},
   "source": []
  },
  {
   "cell_type": "code",
   "execution_count": 101,
   "metadata": {
    "collapsed": false
   },
   "outputs": [
    {
     "name": "stdout",
     "output_type": "stream",
     "text": [
      "0.1024\n"
     ]
    }
   ],
   "source": [
    "def arrival_probas(items, arrival_rate):\n",
    "    success = 0\n",
    "    for attempt in xrange(10000):\n",
    "        icopy = items[:]\n",
    "        arrived = []\n",
    "        for event in range(len(arrival_rate)):\n",
    "            arrival = icopy[random.randint(0, len(icopy)-1)]\n",
    "            arrived.append(arrival)\n",
    "            icopy.remove(arrival)\n",
    "        if arrival_rate == arrived:\n",
    "            success += 1\n",
    "    return float(success) / 10000\n",
    "    \n",
    "print arrival_probas(['U', 'U', 'L', 'L', 'L'], ['L', 'L', 'L'])"
   ]
  },
  {
   "cell_type": "markdown",
   "metadata": {},
   "source": [
    "### 12. I write a program should print out all the numbers from 1 to 300, but prints out 'Fizz' instead if the number is divisible by 3, 'Buzz' instead if the number is divisible by 5, and 'FizzBuzz' if the number is divisible by 3 and 5. What is the total number of numbers that is either 'Fizz'ed, 'Buzz'ed, or 'FizzBuzz'ed?"
   ]
  },
  {
   "cell_type": "markdown",
   "metadata": {},
   "source": [
    "- P(fizz) = 1/3   P(buzz) = 1/5 \n",
    "\n",
    "- every 3rd buzz is a subset of fizz (1/15)\n",
    "\n",
    "- fizbuzz (subset of either)\n",
    "\n",
    "- fizz + buzz = 1/3 + 1/5 - 1/15\n",
    "\n",
    "-  P(fizz | buzz ) = 5/15 + 3/15 - 1/15 \n",
    "\n",
    "-  P(fizz | buzz )  = 7/15 \n",
    "            "
   ]
  },
  {
   "cell_type": "code",
   "execution_count": 110,
   "metadata": {
    "collapsed": false
   },
   "outputs": [
    {
     "name": "stdout",
     "output_type": "stream",
     "text": [
      "Fizz\n",
      "Buzz\n",
      "Fizz\n",
      "Fizz\n",
      "Buzz\n",
      "Fizz\n",
      "FizzBuzz\n",
      "Fizz\n",
      "Buzz\n",
      "Fizz\n",
      "Fizz\n",
      "Buzz\n",
      "Fizz\n",
      "FizzBuzz\n",
      "Fizz\n",
      "Buzz\n",
      "Fizz\n",
      "Fizz\n",
      "Buzz\n",
      "Fizz\n",
      "FizzBuzz\n",
      "Fizz\n",
      "Buzz\n",
      "Fizz\n",
      "Fizz\n",
      "Buzz\n",
      "Fizz\n",
      "FizzBuzz\n",
      "Fizz\n",
      "Buzz\n",
      "Fizz\n",
      "Fizz\n",
      "Buzz\n",
      "Fizz\n",
      "FizzBuzz\n",
      "Fizz\n",
      "Buzz\n",
      "Fizz\n",
      "Fizz\n",
      "Buzz\n",
      "Fizz\n",
      "FizzBuzz\n",
      "Fizz\n",
      "Buzz\n",
      "Fizz\n",
      "Fizz\n",
      "Buzz\n",
      "Fizz\n",
      "FizzBuzz\n",
      "Fizz\n",
      "Buzz\n",
      "Fizz\n",
      "Fizz\n",
      "Buzz\n",
      "Fizz\n",
      "FizzBuzz\n",
      "Fizz\n",
      "Buzz\n",
      "Fizz\n",
      "Fizz\n",
      "Buzz\n",
      "Fizz\n",
      "FizzBuzz\n",
      "Fizz\n",
      "Buzz\n",
      "Fizz\n",
      "Fizz\n",
      "Buzz\n",
      "Fizz\n",
      "FizzBuzz\n",
      "Fizz\n",
      "Buzz\n",
      "Fizz\n",
      "Fizz\n",
      "Buzz\n",
      "Fizz\n",
      "FizzBuzz\n",
      "Fizz\n",
      "Buzz\n",
      "Fizz\n",
      "Fizz\n",
      "Buzz\n",
      "Fizz\n",
      "FizzBuzz\n",
      "Fizz\n",
      "Buzz\n",
      "Fizz\n",
      "Fizz\n",
      "Buzz\n",
      "Fizz\n",
      "FizzBuzz\n",
      "Fizz\n",
      "Buzz\n",
      "Fizz\n",
      "Fizz\n",
      "Buzz\n",
      "Fizz\n",
      "FizzBuzz\n",
      "Fizz\n",
      "Buzz\n",
      "Fizz\n",
      "Fizz\n",
      "Buzz\n",
      "Fizz\n",
      "FizzBuzz\n",
      "Fizz\n",
      "Buzz\n",
      "Fizz\n",
      "Fizz\n",
      "Buzz\n",
      "Fizz\n",
      "FizzBuzz\n",
      "Fizz\n",
      "Buzz\n",
      "Fizz\n",
      "Fizz\n",
      "Buzz\n",
      "Fizz\n",
      "FizzBuzz\n",
      "Fizz\n",
      "Buzz\n",
      "Fizz\n",
      "Fizz\n",
      "Buzz\n",
      "Fizz\n",
      "FizzBuzz\n",
      "Fizz\n",
      "Buzz\n",
      "Fizz\n",
      "Fizz\n",
      "Buzz\n",
      "Fizz\n",
      "FizzBuzz\n",
      "Fizz\n",
      "Buzz\n",
      "Fizz\n",
      "Fizz\n",
      "Buzz\n",
      "Fizz\n"
     ]
    },
    {
     "data": {
      "text/plain": [
       "0.4633333333333333"
      ]
     },
     "execution_count": 110,
     "metadata": {},
     "output_type": "execute_result"
    }
   ],
   "source": [
    "def prob_fizzbuzz(number, fizzrate, buzzrate):\n",
    "    fizz = []\n",
    "    buzz = []\n",
    "    fizzbuzz= []\n",
    "    alltrigs= 0\n",
    "    for num in range(1,number):\n",
    "        if num % fizzrate == 0:\n",
    "            if num % buzzrate == 0:\n",
    "                print 'FizzBuzz'\n",
    "                alltrigs += 1\n",
    "                fizzbuzz.append(num)\n",
    "            else:\n",
    "                print 'Fizz'\n",
    "                alltrigs += 1\n",
    "                fizz.append(num)\n",
    "        elif num % buzzrate == 0:\n",
    "            print 'Buzz'\n",
    "            alltrigs += 1\n",
    "            buzz.append(num)\n",
    "    return float(alltrigs)/number\n",
    "            \n",
    "prob_fizzbuzz(300,3,5)"
   ]
  },
  {
   "cell_type": "markdown",
   "metadata": {},
   "source": [
    "### 13. On a dating site, users can select 5 out of 24 adjectives to describe themselves. A match is declared between two users if they match on at least 4 adjectives. If Alice and Bob randomly pick adjectives, what is the probability that they form a match?"
   ]
  },
  {
   "cell_type": "markdown",
   "metadata": {},
   "source": []
  },
  {
   "cell_type": "code",
   "execution_count": 121,
   "metadata": {
    "collapsed": false
   },
   "outputs": [
    {
     "data": {
      "text/plain": [
       "0.319"
      ]
     },
     "execution_count": 121,
     "metadata": {},
     "output_type": "execute_result"
    }
   ],
   "source": [
    "def is_match(num_picks, num_to_match, num_options):\n",
    "    success = 0 \n",
    "    for i in xrange(10000):\n",
    "        a = set(np.random.choice(np.arange(num_options), num_picks))\n",
    "        b = set(np.random.choice(np.arange(num_options), num_picks))\n",
    "        if len(a and b) == num_to_match:\n",
    "            success += 1\n",
    "    return float(success)/10000\n",
    "\n",
    "is_match(5,4,24)"
   ]
  },
  {
   "cell_type": "markdown",
   "metadata": {},
   "source": [
    "### 14. A lazy high school senior types up application and envelopes to `n` different colleges, but puts the applications randomly into the envelopes. What is the expected number of applications that went to the right college?"
   ]
  },
  {
   "cell_type": "markdown",
   "metadata": {},
   "source": []
  },
  {
   "cell_type": "markdown",
   "metadata": {},
   "source": [
    "### 15. Let’s say you have a very tall father. On average, what would you expect the height of his son to be? Taller, equal, or shorter? What if you had a very short father?"
   ]
  },
  {
   "cell_type": "markdown",
   "metadata": {},
   "source": []
  },
  {
   "cell_type": "markdown",
   "metadata": {
    "collapsed": true
   },
   "source": [
    "### 16. What's the expected number of coin flips until you get two heads in a row? What’s the expected number of coin flips until you get two tails in a row?"
   ]
  },
  {
   "cell_type": "markdown",
   "metadata": {},
   "source": []
  },
  {
   "cell_type": "markdown",
   "metadata": {},
   "source": [
    "### 17. Let's say we play a game where I keep flipping a coin until I get head. If the first time I get heads is on the `n`th coin, then I pay you 2`n`-1 dollars. How much would you pay me to play this game?"
   ]
  },
  {
   "cell_type": "markdown",
   "metadata": {},
   "source": []
  },
  {
   "cell_type": "markdown",
   "metadata": {},
   "source": [
    "<a id='18'></a>\n",
    "### 18. You have two coins, one of which is fair and comes up heads with a probability 1/2, and the other which is biased and comes up heads with probaility 3/4. You randomly pick coin and flip it twice, and get heads both times. What is the probability that you picked the fair coin?"
   ]
  },
  {
   "cell_type": "markdown",
   "metadata": {},
   "source": []
  },
  {
   "cell_type": "markdown",
   "metadata": {},
   "source": [
    "### 19. You have a 0.1% chance of picking up a coin with both heads, and a 99.9% chance that you pick up a fair coin. You flip your coin and it comes up heads 10 times. What’s the chance that you picked up the fair coin, given the information that you observed?"
   ]
  },
  {
   "cell_type": "markdown",
   "metadata": {},
   "source": []
  },
  {
   "cell_type": "markdown",
   "metadata": {},
   "source": [
    "<a id='law_of_total_probability'></a>\n",
    "### [Law of Total Probability](https://en.wikipedia.org/wiki/Law_of_total_probability)\n",
    "\n",
    "The total probability of some event $ A $ is equal to the sum of disjoint $ \\{B: 1, 2, 3, ... n\\} $ where $ A $ and the union of all $ B_n $ occupy the same sample space $ S $ in entirety.\n",
    "\n",
    "<img src='images/law_of_total_probability.png' width=200>\n",
    "\n",
    "In math words:\n",
    "$$ P[A] = \\sum_n P[A \\mid B_n]P[B_n] = \\sum_n P[A \\cap B_n] $$\n",
    "\n",
    "The expanded version for conditional probability:\n",
    "$$ P[A \\mid C] = \\sum_n P[A \\mid C \\cap B_n]P[B_n] = \\sum_n P[A \\cap B_n \\mid C] $$\n",
    "\n",
    "Image stolen from [here](https://www.probabilitycourse.com/chapter1/1_4_2_total_probability.php)."
   ]
  },
  {
   "cell_type": "markdown",
   "metadata": {},
   "source": [
    "<a id='Bayes'></a>\n",
    "### [Bayes' Rule](https://en.wikipedia.org/wiki/Bayes%27_theorem) (more commonly known as Bayes' Theorem)\n",
    "\n",
    "$$ P[A \\mid B] = \\frac{P[B \\mid A]P[A]}{P[B]} = \\frac{P[A \\cap B]}{P[B]} $$\n",
    "\n",
    "**Pro Tip:**<br>\n",
    "Many Bayes' Rule questions can be solved quickly with the odds form of Bayes' Rule, which says that prior odds times likelihood ratio is the posterior odds. For problem [18](#18), the prior odds is 999:1 and the likelihood ratio is 1/1024:1 (10 heads has a 1/1024 probability with a fair coin and 1 probability with a biased coin), which means the posterior odds is about 1:1. For problem 19, the prior odds is 1:1 and the likelihood ratio is 1/4:9/16, so the posterior odds is 4:9."
   ]
  }
 ],
 "metadata": {
  "anaconda-cloud": {},
  "kernelspec": {
   "display_name": "Python [conda root]",
   "language": "python",
   "name": "conda-root-py"
  },
  "language_info": {
   "codemirror_mode": {
    "name": "ipython",
    "version": 2
   },
   "file_extension": ".py",
   "mimetype": "text/x-python",
   "name": "python",
   "nbconvert_exporter": "python",
   "pygments_lexer": "ipython2",
   "version": "2.7.12"
  }
 },
 "nbformat": 4,
 "nbformat_minor": 0
}
