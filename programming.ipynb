{
 "cells": [
  {
   "cell_type": "markdown",
   "metadata": {
    "collapsed": true
   },
   "source": [
    "### Answers to programming questions\n",
    "\n",
    "1) Write a function to calculate all possible assignment vectors of 2n users, where n users are assigned to group 0 (control), and n users are assigned to group 1 (treatment). "
   ]
  },
  {
   "cell_type": "code",
   "execution_count": 10,
   "metadata": {
    "collapsed": false
   },
   "outputs": [],
   "source": [
    "import itertools\n",
    "\n",
    "def numberOfAsignments(n):\n",
    "    # Check to ensure that n is a positive even integer\n",
    "    if n <= 0 or n % 2 != 0:\n",
    "        print \"Please enter a positive even integer\"\n",
    "        return False\n",
    "    \n",
    "    # The way to select n users out of 2n users is just 2n choose n\n",
    "    # Note if we select n users for the control group, the treatment group will automatically be selected already\n",
    "    # The itertools function will do combinations for us\n",
    "    combos = itertools.combinations(xrange(n), n / 2)\n",
    "    \n",
    "    # Combos is an iterable, so we it has no length element and we need to count it\n",
    "    total = 0\n",
    "    for c in combos:\n",
    "        total += 1\n",
    "    return total"
   ]
  },
  {
   "cell_type": "code",
   "execution_count": 13,
   "metadata": {
    "collapsed": false
   },
   "outputs": [
    {
     "data": {
      "text/plain": [
       "20"
      ]
     },
     "execution_count": 13,
     "metadata": {},
     "output_type": "execute_result"
    }
   ],
   "source": [
    "numberOfAsignments(6)"
   ]
  },
  {
   "cell_type": "markdown",
   "metadata": {},
   "source": [
    "2) Given a list of tweets, determine the top 10 most used hashtags."
   ]
  },
  {
   "cell_type": "code",
   "execution_count": 29,
   "metadata": {
    "collapsed": false
   },
   "outputs": [],
   "source": [
    "'''\n",
    "We need to make a couple of assumptions to answer this question\n",
    "Assumptions:\n",
    "    A tweet can have multiple hashtags\n",
    "    Each list element is just a string with each hastag starting with a # and ending with a space\n",
    "'''\n",
    "import re\n",
    "\n",
    "def topNHashtags(tweets, n):\n",
    "    # Create dictionary where each key will be a unique tweet and each value will be the count\n",
    "    tags = {}\n",
    "    for tweet in tweets:\n",
    "        hashtags = parseHashtags(tweet)\n",
    "        for hashtag in hashtags:\n",
    "            tags[hashtag] = tags.get(hashtag, 0) + 1\n",
    "    \n",
    "    # Return top n results from the dictionary\n",
    "    return sorted(tags, key=tags.get, reverse=True)[:n]\n",
    "        \n",
    "\n",
    "def parseHashtags(tweet):\n",
    "    # Use regex to get the hastags out of a string and return the result in a list\n",
    "    return re.findall('(#\\S+)', tweet)"
   ]
  },
  {
   "cell_type": "code",
   "execution_count": 32,
   "metadata": {
    "collapsed": false
   },
   "outputs": [
    {
     "data": {
      "text/plain": [
       "['#hash', '#hi', '#my', '#is']"
      ]
     },
     "execution_count": 32,
     "metadata": {},
     "output_type": "execute_result"
    }
   ],
   "source": [
    "tweets = ['#hi #my #name #is ndjksancdjksa #hash', '#hash', '#hi #my #hash', '#hash', '#hi']\n",
    "topNHashtags(tweets, 4)"
   ]
  },
  {
   "cell_type": "markdown",
   "metadata": {},
   "source": [
    "3) Program an algorithm to find the best approximate solution to the knapsack problem in a given time\n",
    "\n",
    "Knapsack problem:\n",
    "    https://en.wikipedia.org/wiki/Knapsack_problem"
   ]
  },
  {
   "cell_type": "markdown",
   "metadata": {},
   "source": [
    "4) Program an algorithm to find the best approximate solution to the traveling salesman problem in a given time\n",
    "\n",
    "Traveling Salesman Problem: https://en.wikipedia.org/wiki/Travelling_salesman_problem"
   ]
  },
  {
   "cell_type": "markdown",
   "metadata": {},
   "source": [
    "5) You have a stream of data coming in of size n, but you don’t know what n is ahead of time. Write an algorithm that will take a random sample of k elements. Can you write one that takes O(k) space? "
   ]
  },
  {
   "cell_type": "code",
   "execution_count": 228,
   "metadata": {
    "collapsed": true
   },
   "outputs": [],
   "source": [
    "'''\n",
    "The solution is that everytime a new element comes in from the stream roll select a random number [0,1)\n",
    "If the sample is smaller than k, add the element from the stream and the random number to the sample\n",
    "If the random number rolled is smaller than the largest random number in the sample, boot the\n",
    "largest one out and add this one to the sample.\n",
    "'''\n",
    "import numpy as np\n",
    "sample = {}\n",
    "\n",
    "def kRandomSample(stream, k):\n",
    "    if len(sample) < k:\n",
    "        sample[stream] = np.random.rand()\n",
    "    else:\n",
    "        rand = np.random.rand()\n",
    "        if rand < max(sample.itervalues()):\n",
    "            sample.pop(max(sample, key=sample.get), None)\n",
    "            sample[stream] = rand\n",
    "                \n",
    "    return sample"
   ]
  },
  {
   "cell_type": "code",
   "execution_count": 235,
   "metadata": {
    "collapsed": false
   },
   "outputs": [
    {
     "data": {
      "text/plain": [
       "[4, 8, 11, 14, 15]"
      ]
     },
     "execution_count": 235,
     "metadata": {},
     "output_type": "execute_result"
    }
   ],
   "source": [
    "L = [1,2,3,4,5,6,7,8,9,10,11,12,13,14,15,16]\n",
    "sample = {}\n",
    "for i in L:\n",
    "    kRandomSample(i, 5)\n",
    "sample.keys()"
   ]
  },
  {
   "cell_type": "markdown",
   "metadata": {},
   "source": [
    "6) Write an algorithm that can calculate the square root of a number"
   ]
  },
  {
   "cell_type": "code",
   "execution_count": 239,
   "metadata": {
    "collapsed": true
   },
   "outputs": [],
   "source": [
    "'''\n",
    "Here is an implementation of a binary search for the square root of a number\n",
    "Newton's method would be another valid (and almost certainly faster) solution.\n",
    "Use x ** 2 - n as your function to find the zero of\n",
    "'''\n",
    "def squareRoot(n, err=.00001, maxAttempts=10000):\n",
    "    if n < 0:\n",
    "        print \"Please enter a positive number\"\n",
    "        return False\n",
    "    \n",
    "    iteration = 1\n",
    "    attempt = n / 2.0\n",
    "    attempts = 0\n",
    "    \n",
    "    while abs(attempt ** 2 - n) > err:\n",
    "        attempts += 1\n",
    "        if attempt ** 2 > n:\n",
    "            attempt -= n / float(2 ** attempts)\n",
    "        else:\n",
    "            attempt += n / float(2 ** attempts)\n",
    "        \n",
    "        if attempts > maxAttempts:\n",
    "            print \"Did not converge\"\n",
    "            print attempt\n",
    "            return False\n",
    "    \n",
    "    return attempt"
   ]
  },
  {
   "cell_type": "code",
   "execution_count": 247,
   "metadata": {
    "collapsed": false
   },
   "outputs": [
    {
     "data": {
      "text/plain": [
       "6.000000715255737"
      ]
     },
     "execution_count": 247,
     "metadata": {},
     "output_type": "execute_result"
    }
   ],
   "source": [
    "squareRoot(36)"
   ]
  },
  {
   "cell_type": "markdown",
   "metadata": {},
   "source": [
    "7) Given a list of numbers, can you return the outliers?"
   ]
  },
  {
   "cell_type": "code",
   "execution_count": 248,
   "metadata": {
    "collapsed": true
   },
   "outputs": [],
   "source": [
    "'''\n",
    "Ask the interviewer for clarification.\n",
    "How are outliers defined?\n",
    "This code assumes outliers are defined as numbers outside of [Q1 - 1.5 * IQR, Q3 + 1.5 * IQR]\n",
    "where Q1 is the first quartile, Q3 is the third quartile, and IQR is the inner quartile range (Q3 - Q1)\n",
    "\n",
    "The runtime of this algorithm is at least O(n), but potentially larger depending on how numpy computes quartiles\n",
    "'''\n",
    "import numpy\n",
    "\n",
    "def findOutliers(L):\n",
    "    Q1 = np.percentile(L, 25)\n",
    "    Q3 = np.percentile(L, 75)\n",
    "    IQR = Q3 - Q1\n",
    "    outliers = []\n",
    "    \n",
    "    for num in L:\n",
    "        if num < Q1 - 1.5 * IQR:\n",
    "            outliers.append(num)\n",
    "        elif num > Q3 + 1.5 * IQR:\n",
    "            outliers.append(num)\n",
    "    \n",
    "    return outliers"
   ]
  },
  {
   "cell_type": "code",
   "execution_count": 249,
   "metadata": {
    "collapsed": false
   },
   "outputs": [
    {
     "data": {
      "text/plain": [
       "[99, -100, 22, 34, -10]"
      ]
     },
     "execution_count": 249,
     "metadata": {},
     "output_type": "execute_result"
    }
   ],
   "source": [
    "L = [1,2,3,4,6,1,2,3,4,6,1,99,-100,1,2,3,4,5,2,2,22,34,1,2,3,4,-10]\n",
    "findOutliers(L)"
   ]
  },
  {
   "cell_type": "markdown",
   "metadata": {},
   "source": [
    "8) When can parallelism make your algorithms run faster? When could it make your algorithms run slower?"
   ]
  },
  {
   "cell_type": "markdown",
   "metadata": {},
   "source": [
    "9) What are the different kinds of joins? What are the differences between them?\n",
    "\n",
    "Inner\n",
    "\n",
    "    Returns only results from both sides of the join that match the join clause\n",
    "    \n",
    "Outer\n",
    "\n",
    "    Return all results from both sides of the join\n",
    "    Matches rows on the left to the right based on the join clause\n",
    "    \n",
    "Left\n",
    "\n",
    "    Return all results from the left side of the join\n",
    "    Matches to rows on the right if they exist based on the join clause\n",
    "    \n",
    "Right\n",
    "\n",
    "    Return all results from the right side of the join\n",
    "    Matches to rows on the left if they exist based on the join clause\n",
    "    \n",
    "Cross\n",
    "\n",
    "    Returns all rows on the right matched with all rows on the left (Cartesian product)\n",
    "    Results can be pruned down by the join clause\n",
    "    \n",
    "Natural\n",
    "\n",
    "    It is a weird one, the idea is it implicitly joins on columns with the same name\n",
    "    The usual implementation makes it inner join, the shared columns are only returned once"
   ]
  },
  {
   "cell_type": "markdown",
   "metadata": {},
   "source": [
    "10) Why might a join on a subquery be slow? How might you\n",
    "speed it up?\n",
    "\n",
    "No index exists for the subquery because it only exists in memory\n",
    "\n",
    "Create the subquery as a temp table then join to the temp table"
   ]
  },
  {
   "cell_type": "markdown",
   "metadata": {
    "collapsed": true
   },
   "source": [
    "11) Describe the difference between primary keys and foreign keys in SQL database.\n",
    "\n",
    "- Primary key - column or a set of columns that uniquely identify a row in a table.\n",
    "- Foreign key - field (or collection of fields) in a table whose value is required to match the value of the primary key for a second table"
   ]
  },
  {
   "cell_type": "markdown",
   "metadata": {},
   "source": [
    "12) Given these tables:\n",
    "- COURSES: columns `course_id` and `course_name`\n",
    "- FACULTY: columns `faculty_id` and `faculty_name`\n",
    "- COURSE_FACULTY: columns `faculty_id `and `course_id`\n",
    "\n",
    "Return list of faculty who teach a course given the name of course.\n",
    "\n",
    "```sql\n",
    "SELECT\n",
    "    f.faculty_id, f.faculty_name\n",
    "FROM\n",
    "    COURSES c\n",
    "    JOIN COURSE_FACULTY cf\n",
    "        ON c.course_id = cf.course_id\n",
    "    JOIN FACULTY f\n",
    "        ON f.faculty_id = cf.faculty_id\n",
    "WHERE\n",
    "    c.name = 'name_of_course'\n",
    "```"
   ]
  },
  {
   "cell_type": "markdown",
   "metadata": {},
   "source": [
    "13) Given IMPRESSIONS table with:\n",
    "- `ad_id`\n",
    "- `click` (an indicator the ad was clicked)\n",
    "- `date`\n",
    "\n",
    "Write a SQL query that will tell me click through rate of each add by month.\n",
    "\n",
    "```sql\n",
    "SELECT\n",
    "    add_id\n",
    "    , EXTRACT(month from date) AS month\n",
    "    -- using PostgreSQL FILTER syntax: https://www.postgresql.org/docs/9.4/static/sql-expressions.html\n",
    "    , CAST(COUNT(*) AS float) / (COUNT(*) FILTER(WHERE click)) AS click_through\n",
    "FROM IMPRESSIONS\n",
    "GROUP BY\n",
    "    add_id\n",
    "    , EXTRACT(month from date)\n",
    "```"
   ]
  },
  {
   "cell_type": "markdown",
   "metadata": {},
   "source": [
    "14) Write a query that returns the name of each department and a count of the number of employees in each:\n",
    "- EMPLOYEES: `emp_id`, `emp_name`\n",
    "- EMPLOYEE_DEPT: `emp_id`, `dept_id`\n",
    "- DEPTS: `dept_id`, `dept_name`\n",
    "\n",
    "```sql\n",
    "SELECT\n",
    "    d.name\n",
    "    , COUNT(DISTINCT ed.emp_id) AS emp_count\n",
    "FROM\n",
    "    DEPTS d\n",
    "    LEFT JOIN EMPLOYEE_DEPT ed\n",
    "        ON d.dept_id = ed.dept_id\n",
    "GROUP BY\n",
    "    d.name\n",
    "```"
   ]
  },
  {
   "cell_type": "code",
   "execution_count": null,
   "metadata": {
    "collapsed": true
   },
   "outputs": [],
   "source": []
  }
 ],
 "metadata": {
  "anaconda-cloud": {},
  "kernelspec": {
   "display_name": "Python [default]",
   "language": "python",
   "name": "python2"
  },
  "language_info": {
   "codemirror_mode": {
    "name": "ipython",
    "version": 2
   },
   "file_extension": ".py",
   "mimetype": "text/x-python",
   "name": "python",
   "nbconvert_exporter": "python",
   "pygments_lexer": "ipython2",
   "version": "2.7.12"
  }
 },
 "nbformat": 4,
 "nbformat_minor": 0
}
